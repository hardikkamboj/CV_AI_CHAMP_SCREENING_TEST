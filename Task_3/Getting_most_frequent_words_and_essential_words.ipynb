{
 "cells": [
  {
   "cell_type": "markdown",
   "metadata": {},
   "source": [
    "# Extracting most frequent words and most important words "
   ]
  },
  {
   "cell_type": "markdown",
   "metadata": {},
   "source": [
    "## Here we will use the dataset clean_data.csv, which we got as an output earlier"
   ]
  },
  {
   "cell_type": "code",
   "execution_count": 47,
   "metadata": {},
   "outputs": [],
   "source": [
    "import pandas as pd\n",
    "import numpy as np\n",
    "from collections import Counter \n",
    "from sklearn.feature_extraction.text import TfidfVectorizer"
   ]
  },
  {
   "cell_type": "code",
   "execution_count": 2,
   "metadata": {},
   "outputs": [
    {
     "name": "stdout",
     "output_type": "stream",
     "text": [
      "(50, 1)\n"
     ]
    },
    {
     "data": {
      "text/html": [
       "<div>\n",
       "<style scoped>\n",
       "    .dataframe tbody tr th:only-of-type {\n",
       "        vertical-align: middle;\n",
       "    }\n",
       "\n",
       "    .dataframe tbody tr th {\n",
       "        vertical-align: top;\n",
       "    }\n",
       "\n",
       "    .dataframe thead th {\n",
       "        text-align: right;\n",
       "    }\n",
       "</style>\n",
       "<table border=\"1\" class=\"dataframe\">\n",
       "  <thead>\n",
       "    <tr style=\"text-align: right;\">\n",
       "      <th></th>\n",
       "      <th>Text</th>\n",
       "    </tr>\n",
       "  </thead>\n",
       "  <tbody>\n",
       "    <tr>\n",
       "      <th>0</th>\n",
       "      <td>skillsmachine learningalgorithmsartificial int...</td>\n",
       "    </tr>\n",
       "    <tr>\n",
       "      <th>1</th>\n",
       "      <td>java developeropen water scuba hackathon winne...</td>\n",
       "    </tr>\n",
       "    <tr>\n",
       "      <th>2</th>\n",
       "      <td>skillsdata analysisstatisticspandascertificati...</td>\n",
       "    </tr>\n",
       "    <tr>\n",
       "      <th>3</th>\n",
       "      <td>skillsdata analysispublic speakingleadershipad...</td>\n",
       "    </tr>\n",
       "    <tr>\n",
       "      <th>4</th>\n",
       "      <td>skillsdata structuresmachine photoshop program...</td>\n",
       "    </tr>\n",
       "  </tbody>\n",
       "</table>\n",
       "</div>"
      ],
      "text/plain": [
       "                                                Text\n",
       "0  skillsmachine learningalgorithmsartificial int...\n",
       "1  java developeropen water scuba hackathon winne...\n",
       "2  skillsdata analysisstatisticspandascertificati...\n",
       "3  skillsdata analysispublic speakingleadershipad...\n",
       "4  skillsdata structuresmachine photoshop program..."
      ]
     },
     "execution_count": 2,
     "metadata": {},
     "output_type": "execute_result"
    }
   ],
   "source": [
    "#import the clean data file that was given as an output by the program by the earlier program\n",
    "data = pd.read_csv('clean_data.csv',index_col=0)\n",
    "print(data.shape)\n",
    "data.head()"
   ]
  },
  {
   "cell_type": "code",
   "execution_count": 24,
   "metadata": {},
   "outputs": [],
   "source": [
    "text = list(data['Text'])"
   ]
  },
  {
   "cell_type": "markdown",
   "metadata": {},
   "source": [
    "# Finding frequent words"
   ]
  },
  {
   "cell_type": "markdown",
   "metadata": {},
   "source": [
    "## We will find the k most frequent words, along with ther frequency for each row\n",
    "### (here k = 10), value can be changed as a parameter to function"
   ]
  },
  {
   "cell_type": "code",
   "execution_count": 25,
   "metadata": {},
   "outputs": [],
   "source": [
    "def find_k_most_frequent(list_text,k = 10):\n",
    "    \"\"\"\n",
    "    input - list_text (list of strings) text_data\n",
    "                    k (int) number of frquent words in each row\n",
    "    output - freq_data (list of text)\n",
    "            where k most freq words for each row\n",
    "    \"\"\"\n",
    "    freq_data = []\n",
    "    for text in list_text:\n",
    "        counter = Counter(text.split())\n",
    "        freq_words = [x for (x,_) in counter.most_common(k)]\n",
    "        freq_data.append(\", \".join(freq_words))\n",
    "        \n",
    "    return freq_data"
   ]
  },
  {
   "cell_type": "code",
   "execution_count": 26,
   "metadata": {},
   "outputs": [],
   "source": [
    "freq_data = find_k_most_frequent(text)"
   ]
  },
  {
   "cell_type": "code",
   "execution_count": 27,
   "metadata": {},
   "outputs": [
    {
     "data": {
      "text/html": [
       "<div>\n",
       "<style scoped>\n",
       "    .dataframe tbody tr th:only-of-type {\n",
       "        vertical-align: middle;\n",
       "    }\n",
       "\n",
       "    .dataframe tbody tr th {\n",
       "        vertical-align: top;\n",
       "    }\n",
       "\n",
       "    .dataframe thead th {\n",
       "        text-align: right;\n",
       "    }\n",
       "</style>\n",
       "<table border=\"1\" class=\"dataframe\">\n",
       "  <thead>\n",
       "    <tr style=\"text-align: right;\">\n",
       "      <th></th>\n",
       "      <th>Frquent words</th>\n",
       "    </tr>\n",
       "  </thead>\n",
       "  <tbody>\n",
       "    <tr>\n",
       "      <th>0</th>\n",
       "      <td>research, year, bonn, artificial, computer, vi...</td>\n",
       "    </tr>\n",
       "    <tr>\n",
       "      <th>1</th>\n",
       "      <td>lab, student, media, winner, online, page, hac...</td>\n",
       "    </tr>\n",
       "    <tr>\n",
       "      <th>2</th>\n",
       "      <td>engineering, data, skillsdata, analysisstatist...</td>\n",
       "    </tr>\n",
       "    <tr>\n",
       "      <th>3</th>\n",
       "      <td>skillsdata, analysispublic, speakingleadership...</td>\n",
       "    </tr>\n",
       "    <tr>\n",
       "      <th>4</th>\n",
       "      <td>b, r, ambedkar, national, institute, skillsdat...</td>\n",
       "    </tr>\n",
       "  </tbody>\n",
       "</table>\n",
       "</div>"
      ],
      "text/plain": [
       "                                       Frquent words\n",
       "0  research, year, bonn, artificial, computer, vi...\n",
       "1  lab, student, media, winner, online, page, hac...\n",
       "2  engineering, data, skillsdata, analysisstatist...\n",
       "3  skillsdata, analysispublic, speakingleadership...\n",
       "4  b, r, ambedkar, national, institute, skillsdat..."
      ]
     },
     "execution_count": 27,
     "metadata": {},
     "output_type": "execute_result"
    }
   ],
   "source": [
    "freq_dataframe = pd.DataFrame(freq_data,columns = ['Frquent words'])\n",
    "freq_dataframe.head()"
   ]
  },
  {
   "cell_type": "code",
   "execution_count": 28,
   "metadata": {},
   "outputs": [],
   "source": [
    "#lets save this as csv \n",
    "freq_dataframe.to_csv('freq_words_file.csv')"
   ]
  },
  {
   "cell_type": "markdown",
   "metadata": {},
   "source": [
    "## Additional (lets see which word is the most frequent, most frequent word)"
   ]
  },
  {
   "cell_type": "code",
   "execution_count": 29,
   "metadata": {},
   "outputs": [
    {
     "data": {
      "text/plain": [
       "[('data', 12), ('science', 6), ('engineering', 3), ('learning', 3)]"
      ]
     },
     "execution_count": 29,
     "metadata": {},
     "output_type": "execute_result"
    }
   ],
   "source": [
    "most_freq_list = find_k_most_frequent(text,k=1)\n",
    "most_freq_counter = Counter(most_freq_list)\n",
    "most_freq_counter.most_common(4)"
   ]
  },
  {
   "cell_type": "markdown",
   "metadata": {},
   "source": [
    "### Hmm...data science engineering and leanring..That makes sense....."
   ]
  },
  {
   "cell_type": "markdown",
   "metadata": {},
   "source": [
    "# Finding k most essential words\n",
    "### here k = 10"
   ]
  },
  {
   "cell_type": "markdown",
   "metadata": {},
   "source": [
    "To find the essential words, we will use TF-IDF. <br>\n",
    "TF-IDF is a statistical measure that evaluates how relevant a word is to a document in a collection of documents. This is done by multiplying two metrics: how many times a word appears in a document (term frequency), and the inverse document frequency of the word across a set of documents (idf). <br>\n",
    "\n",
    "To sum it up ->\n",
    "- tf -> gives more word to a value if word is more common in the document \n",
    "- idf -> gives more value to a word if word is less common in the whole of the corpus \n",
    "- tf-idf -> gives more value to a word if word is more common in the current document and less common in the corpus"
   ]
  },
  {
   "cell_type": "code",
   "execution_count": 62,
   "metadata": {},
   "outputs": [],
   "source": [
    "def find_important_words(text_data,k = 10):\n",
    "    \"\"\"\n",
    "    input - text_data (list) list of sentences\n",
    "                    k  (int) number of important word for each row\n",
    "    Output - list_imp_words (list)\n",
    "    \n",
    "    method used - \n",
    "    for each used, the tfidf score for each word is calculated, and we select words \n",
    "    which has top k tfidf scores\n",
    "    \"\"\"\n",
    "    list_imp_words = []\n",
    "    vectorizer = TfidfVectorizer()\n",
    "    X = vectorizer.fit_transform(text_data)\n",
    "    for line in text_data:\n",
    "        response = vectorizer.transform([line])\n",
    "        feature_array = np.array(vectorizer.get_feature_names())\n",
    "        tfidf_sorting = np.argsort(response.toarray()).flatten()[::-1]\n",
    "        top_k = feature_array[tfidf_sorting][:k]\n",
    "        list_imp_words.append(', '.join(top_k))\n",
    "    return list_imp_words    "
   ]
  },
  {
   "cell_type": "code",
   "execution_count": 59,
   "metadata": {},
   "outputs": [
    {
     "data": {
      "text/plain": [
       "50"
      ]
     },
     "execution_count": 59,
     "metadata": {},
     "output_type": "execute_result"
    }
   ],
   "source": [
    "imp_words = find_important_words(text)\n",
    "len(imp_words)"
   ]
  },
  {
   "cell_type": "code",
   "execution_count": 61,
   "metadata": {},
   "outputs": [
    {
     "data": {
      "text/html": [
       "<div>\n",
       "<style scoped>\n",
       "    .dataframe tbody tr th:only-of-type {\n",
       "        vertical-align: middle;\n",
       "    }\n",
       "\n",
       "    .dataframe tbody tr th {\n",
       "        vertical-align: top;\n",
       "    }\n",
       "\n",
       "    .dataframe thead th {\n",
       "        text-align: right;\n",
       "    }\n",
       "</style>\n",
       "<table border=\"1\" class=\"dataframe\">\n",
       "  <thead>\n",
       "    <tr style=\"text-align: right;\">\n",
       "      <th></th>\n",
       "      <th>Important Words</th>\n",
       "    </tr>\n",
       "  </thead>\n",
       "  <tbody>\n",
       "    <tr>\n",
       "      <th>0</th>\n",
       "      <td>bonn, cad, physical, research, video, artifici...</td>\n",
       "    </tr>\n",
       "    <tr>\n",
       "      <th>1</th>\n",
       "      <td>lab, winner, media, online, student, mit, mell...</td>\n",
       "    </tr>\n",
       "    <tr>\n",
       "      <th>2</th>\n",
       "      <td>engineering, dinesh, analysisstatisticspandasc...</td>\n",
       "    </tr>\n",
       "    <tr>\n",
       "      <th>3</th>\n",
       "      <td>relations, chemical, guwahatipublic, guwahatie...</td>\n",
       "    </tr>\n",
       "    <tr>\n",
       "      <th>4</th>\n",
       "      <td>ambedkar, national, institute, structuresmachi...</td>\n",
       "    </tr>\n",
       "  </tbody>\n",
       "</table>\n",
       "</div>"
      ],
      "text/plain": [
       "                                     Important Words\n",
       "0  bonn, cad, physical, research, video, artifici...\n",
       "1  lab, winner, media, online, student, mit, mell...\n",
       "2  engineering, dinesh, analysisstatisticspandasc...\n",
       "3  relations, chemical, guwahatipublic, guwahatie...\n",
       "4  ambedkar, national, institute, structuresmachi..."
      ]
     },
     "execution_count": 61,
     "metadata": {},
     "output_type": "execute_result"
    }
   ],
   "source": [
    "# convert it to a dataframe\n",
    "imp_words_data = pd.DataFrame(imp_words,columns = ['Important Words'])\n",
    "imp_words_data.head()"
   ]
  },
  {
   "cell_type": "code",
   "execution_count": 63,
   "metadata": {},
   "outputs": [],
   "source": [
    "# download it as csv \n",
    "imp_words_data.to_csv('imp_words_file.csv')"
   ]
  },
  {
   "cell_type": "code",
   "execution_count": null,
   "metadata": {},
   "outputs": [],
   "source": []
  }
 ],
 "metadata": {
  "kernelspec": {
   "display_name": "Python 3",
   "language": "python",
   "name": "python3"
  },
  "language_info": {
   "codemirror_mode": {
    "name": "ipython",
    "version": 3
   },
   "file_extension": ".py",
   "mimetype": "text/x-python",
   "name": "python",
   "nbconvert_exporter": "python",
   "pygments_lexer": "ipython3",
   "version": "3.7.3"
  }
 },
 "nbformat": 4,
 "nbformat_minor": 2
}
