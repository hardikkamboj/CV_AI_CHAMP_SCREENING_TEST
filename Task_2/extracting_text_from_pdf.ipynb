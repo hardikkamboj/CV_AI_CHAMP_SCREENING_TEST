{
  "nbformat": 4,
  "nbformat_minor": 0,
  "metadata": {
    "colab": {
      "name": "extracting_text_from_pdf.ipynb",
      "provenance": []
    },
    "kernelspec": {
      "name": "python3",
      "display_name": "Python 3"
    }
  },
  "cells": [
    {
      "cell_type": "markdown",
      "metadata": {
        "id": "gE2TKe6qPV5F",
        "colab_type": "text"
      },
      "source": [
        "# Extracing text from pdf "
      ]
    },
    {
      "cell_type": "markdown",
      "metadata": {
        "id": "lE81e8eAPfXa",
        "colab_type": "text"
      },
      "source": [
        "## In this i have used Tika by apache to extract text from pdfs. I am running this in Google Colab since it provides free platform and high computation power."
      ]
    },
    {
      "cell_type": "code",
      "metadata": {
        "id": "KrifJrI5DTeh",
        "colab_type": "code",
        "colab": {
          "base_uri": "https://localhost:8080/",
          "height": 134
        },
        "outputId": "41ebdc7c-4ed3-40d7-9c38-3248737937a9"
      },
      "source": [
        "#installing tika from apache\n",
        "!pip install tika"
      ],
      "execution_count": 61,
      "outputs": [
        {
          "output_type": "stream",
          "text": [
            "Requirement already satisfied: tika in /usr/local/lib/python3.6/dist-packages (1.24)\n",
            "Requirement already satisfied: setuptools in /usr/local/lib/python3.6/dist-packages (from tika) (49.6.0)\n",
            "Requirement already satisfied: requests in /usr/local/lib/python3.6/dist-packages (from tika) (2.23.0)\n",
            "Requirement already satisfied: idna<3,>=2.5 in /usr/local/lib/python3.6/dist-packages (from requests->tika) (2.10)\n",
            "Requirement already satisfied: chardet<4,>=3.0.2 in /usr/local/lib/python3.6/dist-packages (from requests->tika) (3.0.4)\n",
            "Requirement already satisfied: certifi>=2017.4.17 in /usr/local/lib/python3.6/dist-packages (from requests->tika) (2020.6.20)\n",
            "Requirement already satisfied: urllib3!=1.25.0,!=1.25.1,<1.26,>=1.21.1 in /usr/local/lib/python3.6/dist-packages (from requests->tika) (1.24.3)\n"
          ],
          "name": "stdout"
        }
      ]
    },
    {
      "cell_type": "markdown",
      "metadata": {
        "id": "GcuxvadLIZPB",
        "colab_type": "text"
      },
      "source": [
        "Documentation of apache tika - http://tika.apache.org/0.5/documentation.html"
      ]
    },
    {
      "cell_type": "code",
      "metadata": {
        "id": "a5Uz0FSzDVRt",
        "colab_type": "code",
        "colab": {}
      },
      "source": [
        "from tika import parser"
      ],
      "execution_count": 62,
      "outputs": []
    },
    {
      "cell_type": "code",
      "metadata": {
        "id": "QmKk34qTDhYd",
        "colab_type": "code",
        "colab": {}
      },
      "source": [
        "# used to import the files from loacl disk\n",
        "from google.colab import files"
      ],
      "execution_count": 63,
      "outputs": []
    },
    {
      "cell_type": "code",
      "metadata": {
        "id": "UKxqv9f2Q5Yp",
        "colab_type": "code",
        "colab": {}
      },
      "source": [
        "# select all the 50 files from your machine\n",
        "uploaded = files.upload()"
      ],
      "execution_count": null,
      "outputs": []
    },
    {
      "cell_type": "markdown",
      "metadata": {
        "id": "rnG9vkzHReQr",
        "colab_type": "text"
      },
      "source": [
        "One can view the uploaded files by clicking the folder icon on the left hand side "
      ]
    },
    {
      "cell_type": "markdown",
      "metadata": {
        "id": "avUgNfCNP4Z6",
        "colab_type": "text"
      },
      "source": [
        "All the 50 files are now stored in dir '\\content'\n",
        "We will use os and glob to extrach all the file names which are in dir '\\content' and end with .pdf"
      ]
    },
    {
      "cell_type": "markdown",
      "metadata": {
        "id": "usGgyHN2QK7y",
        "colab_type": "text"
      },
      "source": [
        "Source - https://stackoverflow.com/questions/3964681/find-all-files-in-a-directory-with-extension-txt-in-python"
      ]
    },
    {
      "cell_type": "code",
      "metadata": {
        "id": "XDWLUh5bI5e8",
        "colab_type": "code",
        "colab": {}
      },
      "source": [
        "list_text = [] #we are going to store all the text in this list\n",
        "import glob, os\n",
        "os.chdir(\"/content\") \n",
        "for file in glob.glob(\"*.pdf\"):\n",
        "    parsedPDF = parser.from_file(file)\n",
        "    text = parsedPDF['content']\n",
        "    text = text.replace('\\n','') # since i obsewrved that there are a lots of \\n , which are unnecessary\n",
        "    list_text.append(text) "
      ],
      "execution_count": 65,
      "outputs": []
    },
    {
      "cell_type": "code",
      "metadata": {
        "id": "R-yu7bVEL7nj",
        "colab_type": "code",
        "colab": {
          "base_uri": "https://localhost:8080/",
          "height": 34
        },
        "outputId": "6761aba8-cac9-42dc-a28d-5c9b69d8780c"
      },
      "source": [
        "len(list_text) # it mathces with the number of files , ie 50"
      ],
      "execution_count": 66,
      "outputs": [
        {
          "output_type": "execute_result",
          "data": {
            "text/plain": [
              "50"
            ]
          },
          "metadata": {
            "tags": []
          },
          "execution_count": 66
        }
      ]
    },
    {
      "cell_type": "code",
      "metadata": {
        "id": "8jdjnQQ_Mwir",
        "colab_type": "code",
        "colab": {
          "base_uri": "https://localhost:8080/",
          "height": 120
        },
        "outputId": "f9a1569f-21bc-486a-d82b-87270e24af4b"
      },
      "source": [
        "list_text[0]\n",
        "# this is a sample text from the first pdf"
      ],
      "execution_count": 67,
      "outputs": [
        {
          "output_type": "execute_result",
          "data": {
            "application/vnd.google.colaboratory.intrinsic+json": {
              "type": "string"
            },
            "text/plain": [
              "'Resume\\xa0 \\xa0Contactchristian.szegedy@gmail.comwww.linkedin.com/in/christian-szegedy-bb284816 (LinkedIn)Top SkillsMachine LearningAlgorithmsArtificial IntelligenceLanguagesHungarianEnglishGermanChristian SzegedyStaff Research Scientist at GoogleSan Francisco Bay AreaSummaryTrying to solve math.ExperienceGoogle9 years 9 monthsStaff Research ScientistOctober 2015\\xa0-\\xa0Present\\xa0(4 years 11 months)Deep Learning, Artificial Intelligence, Computer Vision, Video Analysis, FormalReasoning.Senior Research ScientistFebruary 2015\\xa0-\\xa0October 2015\\xa0(9 months)Computer Vision, Video Analysis, Artificial IntelligenceSoftware engineerDecember 2010\\xa0-\\xa0February 2015\\xa0(4 years 3 months)Computer vision, machine learning, advertisement pricing optimization.Cadence Design SystemsResearch Scientist2005\\xa0-\\xa02010\\xa0(5 years)VLSI CAD physical design, logic synthesisUniversity of BonnResearch Assistant1998\\xa0-\\xa02005\\xa0(7 years)Discrete Mathematics, mathematical optimization, VLSI CAD physical design,logic synthesisEducationRheinische Friedrich-Wilhelms-Universität Bonn / University of Bonn\\xa0 Page 1 of 2mailto:christian.szegedy@gmail.comhttps://www.linkedin.com/in/christian-szegedy-bb284816?jobid=1234&lipi=urn%3Ali%3Apage%3Ad_jobs_easyapply_pdfgenresume%3B9tdIznTCQMKFHsxgim8MiQ%3D%3D&licu=urn%3Ali%3Acontrol%3Ad_jobs_easyapply_pdfgenresume-v02_profilehttps://www.linkedin.com/in/christian-szegedy-bb284816?jobid=1234&lipi=urn%3Ali%3Apage%3Ad_jobs_easyapply_pdfgenresume%3B9tdIznTCQMKFHsxgim8MiQ%3D%3D&licu=urn%3Ali%3Acontrol%3Ad_jobs_easyapply_pdfgenresume-v02_profile\\xa0 \\xa0Doctor of Philosophy (Ph.D.),\\xa0Applied Mathematics\\xa0·\\xa0(1998\\xa0-\\xa02005)Rheinische Friedrich-Wilhelms-Universität Bonn / University of BonnMaster’s Degree,\\xa0Mathematics\\xa0·\\xa0(1994\\xa0-\\xa01998)Eötvös Loránd TudományegyetemMathematics and Computer Science\\xa0·\\xa0(1990\\xa0-\\xa01992)Fazekas Mihaly Fov Gyak Gimn.High School\\xa0\\xa0·\\xa0(1986\\xa0-\\xa01990)\\xa0 Page 2 of 2'"
            ]
          },
          "metadata": {
            "tags": []
          },
          "execution_count": 67
        }
      ]
    },
    {
      "cell_type": "code",
      "metadata": {
        "id": "RUtzfCfkM3gi",
        "colab_type": "code",
        "colab": {}
      },
      "source": [
        "# now since we have the list, and we need a csv, we will first convert it to a dataframe\n",
        "import pandas as pd\n",
        "data = pd.DataFrame(list_text,columns = ['Text'])"
      ],
      "execution_count": 68,
      "outputs": []
    },
    {
      "cell_type": "code",
      "metadata": {
        "id": "rPoP3sOQNEJj",
        "colab_type": "code",
        "colab": {
          "base_uri": "https://localhost:8080/",
          "height": 34
        },
        "outputId": "4d362a12-26ae-4ff5-b8f0-6f1c644030bd"
      },
      "source": [
        "# shape is (50,1)\n",
        "data.shape"
      ],
      "execution_count": 69,
      "outputs": [
        {
          "output_type": "execute_result",
          "data": {
            "text/plain": [
              "(50, 1)"
            ]
          },
          "metadata": {
            "tags": []
          },
          "execution_count": 69
        }
      ]
    },
    {
      "cell_type": "code",
      "metadata": {
        "id": "boVaM9x9NH87",
        "colab_type": "code",
        "colab": {
          "base_uri": "https://localhost:8080/",
          "height": 195
        },
        "outputId": "d5a8cdbd-f27d-4ee3-c1a3-20848c84bd1f"
      },
      "source": [
        "data.head()"
      ],
      "execution_count": 70,
      "outputs": [
        {
          "output_type": "execute_result",
          "data": {
            "text/html": [
              "<div>\n",
              "<style scoped>\n",
              "    .dataframe tbody tr th:only-of-type {\n",
              "        vertical-align: middle;\n",
              "    }\n",
              "\n",
              "    .dataframe tbody tr th {\n",
              "        vertical-align: top;\n",
              "    }\n",
              "\n",
              "    .dataframe thead th {\n",
              "        text-align: right;\n",
              "    }\n",
              "</style>\n",
              "<table border=\"1\" class=\"dataframe\">\n",
              "  <thead>\n",
              "    <tr style=\"text-align: right;\">\n",
              "      <th></th>\n",
              "      <th>Text</th>\n",
              "    </tr>\n",
              "  </thead>\n",
              "  <tbody>\n",
              "    <tr>\n",
              "      <th>0</th>\n",
              "      <td>Resume   Contactchristian.szegedy@gmail.comwww...</td>\n",
              "    </tr>\n",
              "    <tr>\n",
              "      <th>1</th>\n",
              "      <td>Resume   Contactanshumanpandey001@gmail.comwww...</td>\n",
              "    </tr>\n",
              "    <tr>\n",
              "      <th>2</th>\n",
              "      <td>Resume   Contact7989921656 (Mobile)dineshparsa...</td>\n",
              "    </tr>\n",
              "    <tr>\n",
              "      <th>3</th>\n",
              "      <td>Resume   Contact7827876767 (Mobile)aditya.jais...</td>\n",
              "    </tr>\n",
              "    <tr>\n",
              "      <th>4</th>\n",
              "      <td>Resume   Contactsonisinha.25022000@gmail.comww...</td>\n",
              "    </tr>\n",
              "  </tbody>\n",
              "</table>\n",
              "</div>"
            ],
            "text/plain": [
              "                                                Text\n",
              "0  Resume   Contactchristian.szegedy@gmail.comwww...\n",
              "1  Resume   Contactanshumanpandey001@gmail.comwww...\n",
              "2  Resume   Contact7989921656 (Mobile)dineshparsa...\n",
              "3  Resume   Contact7827876767 (Mobile)aditya.jais...\n",
              "4  Resume   Contactsonisinha.25022000@gmail.comww..."
            ]
          },
          "metadata": {
            "tags": []
          },
          "execution_count": 70
        }
      ]
    },
    {
      "cell_type": "code",
      "metadata": {
        "id": "Ie6u4OOHNJTb",
        "colab_type": "code",
        "colab": {}
      },
      "source": [
        "# to get csv from pandas.DataFrame\n",
        "data.to_csv('data.csv')"
      ],
      "execution_count": 71,
      "outputs": []
    },
    {
      "cell_type": "code",
      "metadata": {
        "id": "qKjuigirOL0B",
        "colab_type": "code",
        "colab": {
          "base_uri": "https://localhost:8080/",
          "height": 17
        },
        "outputId": "aa107858-7567-4c84-e4ce-4741256851cb"
      },
      "source": [
        "# finally downloading the file.\n",
        "files.download('data.csv')"
      ],
      "execution_count": 72,
      "outputs": [
        {
          "output_type": "display_data",
          "data": {
            "application/javascript": [
              "\n",
              "    async function download(id, filename, size) {\n",
              "      if (!google.colab.kernel.accessAllowed) {\n",
              "        return;\n",
              "      }\n",
              "      const div = document.createElement('div');\n",
              "      const label = document.createElement('label');\n",
              "      label.textContent = `Downloading \"${filename}\": `;\n",
              "      div.appendChild(label);\n",
              "      const progress = document.createElement('progress');\n",
              "      progress.max = size;\n",
              "      div.appendChild(progress);\n",
              "      document.body.appendChild(div);\n",
              "\n",
              "      const buffers = [];\n",
              "      let downloaded = 0;\n",
              "\n",
              "      const channel = await google.colab.kernel.comms.open(id);\n",
              "      // Send a message to notify the kernel that we're ready.\n",
              "      channel.send({})\n",
              "\n",
              "      for await (const message of channel.messages) {\n",
              "        // Send a message to notify the kernel that we're ready.\n",
              "        channel.send({})\n",
              "        if (message.buffers) {\n",
              "          for (const buffer of message.buffers) {\n",
              "            buffers.push(buffer);\n",
              "            downloaded += buffer.byteLength;\n",
              "            progress.value = downloaded;\n",
              "          }\n",
              "        }\n",
              "      }\n",
              "      const blob = new Blob(buffers, {type: 'application/binary'});\n",
              "      const a = document.createElement('a');\n",
              "      a.href = window.URL.createObjectURL(blob);\n",
              "      a.download = filename;\n",
              "      div.appendChild(a);\n",
              "      a.click();\n",
              "      div.remove();\n",
              "    }\n",
              "  "
            ],
            "text/plain": [
              "<IPython.core.display.Javascript object>"
            ]
          },
          "metadata": {
            "tags": []
          }
        },
        {
          "output_type": "display_data",
          "data": {
            "application/javascript": [
              "download(\"download_3ec5342b-ece1-456b-a416-56d0b5d5ce1d\", \"data.csv\", 130113)"
            ],
            "text/plain": [
              "<IPython.core.display.Javascript object>"
            ]
          },
          "metadata": {
            "tags": []
          }
        }
      ]
    },
    {
      "cell_type": "code",
      "metadata": {
        "id": "AZKtvnEcR-bC",
        "colab_type": "code",
        "colab": {}
      },
      "source": [
        ""
      ],
      "execution_count": null,
      "outputs": []
    }
  ]
}